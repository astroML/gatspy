{
 "cells": [
  {
   "cell_type": "markdown",
   "metadata": {},
   "source": [
    "# The Baluev Method for False Alarm Probabilities\n",
    "**Author**: Nicholas Hunt-Walker<br/>\n",
    "**Date**: 9/14/2015<br/>\n",
    "**Purpose**: We want to estimate the probability that a given periodogram Z-score is a false positive. Modeled after Monte-Carlo simulations of Gaussian white noise, <a href=\"http://adsabs.harvard.edu/abs/2008MNRAS.385.1279B\">Baluev 2008</a> demonstrated that upper limits to False Alarm Probabilities (FAPs) can be estimated from elements of the data and evaluations from a given periodogram. Here, we reproduce the comparison between FAPs as derived from data and FAPs calculated from Baluev's theoretical model."
   ]
  },
  {
   "cell_type": "code",
   "execution_count": 1,
   "metadata": {
    "collapsed": false
   },
   "outputs": [],
   "source": [
    "import numpy as np\n",
    "import matplotlib.pyplot as plt\n",
    "%matplotlib inline\n",
    "from gatspy.periodic import LombScargle\n"
   ]
  },
  {
   "cell_type": "markdown",
   "metadata": {
    "collapsed": true
   },
   "source": [
    "## Set up simulation of Gaussian white noise"
   ]
  },
  {
   "cell_type": "code",
   "execution_count": 2,
   "metadata": {
    "collapsed": true
   },
   "outputs": [],
   "source": [
    "# Want 100,000 trials\n",
    "N_trials = 100000\n",
    "# 1,000 time points, evenly spaced\n",
    "N_pts = 1000\n",
    "\n",
    "# time array\n",
    "t = np.linspace(0, 100, N_pts)\n",
    "\n",
    "# W = max(f) * T\n",
    "W = [50, 500]\n",
    "scores = np.zeros((N_trials, len(W)))\n"
   ]
  },
  {
   "cell_type": "markdown",
   "metadata": {},
   "source": [
    "## Run the simulation\n",
    "\\*\\*Note: Don't actually run this. It'll take forever. Run smaller instances in terminals and restitch the data later\\*\\*"
   ]
  },
  {
   "cell_type": "code",
   "execution_count": null,
   "metadata": {
    "collapsed": true
   },
   "outputs": [],
   "source": [
    "for ii in range(N_trials):\n",
    "\n",
    "    for jj in range(len(W)):\n",
    "        # maximum frequency/min period\n",
    "        fmax = W[jj]/t.max()\n",
    "        \n",
    "        # \"data\" array\n",
    "        y = np.random.normal(0, 1.0, t.size)\n",
    "\n",
    "        ls = LombScargle().fit(t, y, 1.0)\n",
    "        ls.optimizer.quiet = True\n",
    "        ls.optimizer.period_range = (1/fmax, t[-1])\n",
    "\n",
    "        chisq_0 = np.var(y)\n",
    "        scores[ii, jj] = ls.score(ls.best_period) * chisq_0 * 0.5 * (N_pts-1)\n"
   ]
  },
  {
   "cell_type": "markdown",
   "metadata": {},
   "source": [
    "## Calculate maximum FAPs from Baluev 2008, Table 1"
   ]
  },
  {
   "cell_type": "code",
   "execution_count": 3,
   "metadata": {
    "collapsed": true
   },
   "outputs": [],
   "source": [
    "def false_alarm_single(t, z):\n",
    "    N = t.size\n",
    "    Nh = N-1\n",
    "    Nk = N-3\n",
    "\n",
    "    p = (1 - 2*z/Nh)**(0.5*Nk)\n",
    "    return p\n",
    "\n",
    "def false_alarm_max(t, W, z):\n",
    "    N = t.size\n",
    "    Nh = N-1\n",
    "    Nk = N-3\n",
    "\n",
    "    fmax = W/t.max()\n",
    "\n",
    "    tau = W * (1-2*z/Nh) ** (0.5*(Nk-1)) * np.sqrt(z)\n",
    "    Psingle = 1 - false_alarm_single(t, z)\n",
    "    Pmax = Psingle * np.exp(-tau)\n",
    "\n",
    "    return 1 - Pmax"
   ]
  },
  {
   "cell_type": "code",
   "execution_count": 4,
   "metadata": {
    "collapsed": false
   },
   "outputs": [],
   "source": [
    "scores = np.linspace(0, 20, 1000)\n",
    "faps_50 = false_alarm_max(t, W[0], scores)\n",
    "faps_500 = false_alarm_max(t, W[1], scores)\n"
   ]
  },
  {
   "cell_type": "markdown",
   "metadata": {},
   "source": [
    "## Load results of the simulations"
   ]
  },
  {
   "cell_type": "code",
   "execution_count": 5,
   "metadata": {
    "collapsed": false
   },
   "outputs": [],
   "source": [
    "data = np.loadtxt(\"all_gaussian.dat\", delimiter=\",\").T"
   ]
  },
  {
   "cell_type": "code",
   "execution_count": 6,
   "metadata": {
    "collapsed": true
   },
   "outputs": [],
   "source": [
    "## Freeman-Diaconis bin-width for histograms\n",
    "qw1 = np.percentile(data[0], [75,25])\n",
    "qw1 = qw1[0] - qw1[1]\n",
    "bw1 = 2*qw1 / (N_trials)**(1./3)\n",
    "\n",
    "qw2 = np.percentile(data[1], [75,25])\n",
    "qw2 = qw2[0] - qw2[1]\n",
    "bw2 = 2*qw2 / (N_trials)**(1./3)\n"
   ]
  },
  {
   "cell_type": "code",
   "execution_count": 7,
   "metadata": {
    "collapsed": true
   },
   "outputs": [],
   "source": [
    "H1, bins1 = np.histogram(data[0], bins=np.arange(0, max(data[0]) + bw1, bw1))\n",
    "H2, bins2 = np.histogram(data[1], bins=np.arange(0, max(data[1]) + bw2, bw2))\n",
    "H1 = np.cumsum(H1)\n",
    "H2 = np.cumsum(H2)\n"
   ]
  },
  {
   "cell_type": "code",
   "execution_count": 8,
   "metadata": {
    "collapsed": false
   },
   "outputs": [
    {
     "data": {
      "image/png": "[encoded data removed]",
      "text/plain": [
       "<matplotlib.figure.Figure at 0x107ed6f50>"
      ]
     },
     "metadata": {},
     "output_type": "display_data"
    }
   ],
   "source": [
    "fig = plt.figure(figsize=(8,4))\n",
    "fig.subplots_adjust(bottom=0.15)\n",
    "plt.suptitle(\"$N = 1000$ time steps, evenly-spaced, $10^5$ runs\")\n",
    "\n",
    "ax = plt.subplot(111)\n",
    "ax.step(bins1[:-1], 1 - H1/float(max(H1)), color='b', label=\"f$_{max}T = 50$\")\n",
    "ax.plot(scores, faps_50, color='k', linewidth=2, linestyle='--', label=\"theoretical f$_{max}T=50$\")\n",
    "ax.step(bins2[:-1], 1 - H2/float(max(H2)), color='r', label=\"f$_{max}T = 500$\")\n",
    "ax.plot(scores, faps_500, color='k', linewidth=2, linestyle=':', label=\"theoretical f$_{max}T=500$\")\n",
    "ax.set_xlabel(\"max Z(f)\")\n",
    "ax.set_ylabel(\"FAP(Z)\")\n",
    "ax.legend(loc=\"best\", fontsize=8)\n",
    "ax.set_ylim(1E-4,1)\n",
    "ax.set_xlim(0, 20)\n",
    "ax.set_yscale(\"log\")\n",
    "ax.minorticks_on()\n",
    "ax.grid()\n",
    "\n",
    "plt.show()\n"
   ]
  },
  {
   "cell_type": "code",
   "execution_count": null,
   "metadata": {
    "collapsed": true
   },
   "outputs": [],
   "source": []
  }
 ],
 "metadata": {
  "kernelspec": {
   "display_name": "Python 2",
   "language": "python",
   "name": "python2"
  },
  "language_info": {
   "codemirror_mode": {
    "name": "ipython",
    "version": 2
   },
   "file_extension": ".py",
   "mimetype": "text/x-python",
   "name": "python",
   "nbconvert_exporter": "python",
   "pygments_lexer": "ipython2",
   "version": "2.7.10"
  }
 },
 "nbformat": 4,
 "nbformat_minor": 0
}
